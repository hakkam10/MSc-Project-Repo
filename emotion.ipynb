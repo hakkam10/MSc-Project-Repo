{
 "cells": [
  {
   "cell_type": "code",
   "execution_count": 157,
   "metadata": {},
   "outputs": [],
   "source": [
    "import pandas as pd\n",
    "from bs4 import BeautifulSoup\n",
    "import requests\n",
    "import re\n",
    "import json\n",
    "import torch\n",
    "import seaborn as sns\n",
    "import matplotlib.pyplot as plt\n",
    "import PIL"
   ]
  },
  {
   "cell_type": "markdown",
   "metadata": {},
   "source": [
    "## Import the emotional classification model"
   ]
  },
  {
   "cell_type": "code",
   "execution_count": 1,
   "metadata": {},
   "outputs": [
    {
     "name": "stderr",
     "output_type": "stream",
     "text": [
      "/Users/hakkam/anaconda3/lib/python3.10/site-packages/tqdm/auto.py:21: TqdmWarning: IProgress not found. Please update jupyter and ipywidgets. See https://ipywidgets.readthedocs.io/en/stable/user_install.html\n",
      "  from .autonotebook import tqdm as notebook_tqdm\n",
      "Downloading (…)base-uncased-emotion: 100%|██████████| 10.1k/10.1k [00:00<00:00, 7.15MB/s]\n"
     ]
    }
   ],
   "source": [
    "from transformers import pipeline\n",
    "classifier = pipeline(model='bhadresh-savani/distilbert-base-uncased-emotion')\n",
    "\n",
    "\n"
   ]
  },
  {
   "cell_type": "markdown",
   "metadata": {},
   "source": [
    "## Using the BeautifulSoup scrapper to scrape the joker film script"
   ]
  },
  {
   "cell_type": "code",
   "execution_count": 3,
   "metadata": {},
   "outputs": [],
   "source": [
    "result = requests.get(\"https://imsdb.com/scripts/Joker.html\")"
   ]
  },
  {
   "cell_type": "code",
   "execution_count": 4,
   "metadata": {},
   "outputs": [],
   "source": [
    "doc = BeautifulSoup(result.text, \"html.parser\")\n",
    "script = doc.find(\"pre\")"
   ]
  },
  {
   "cell_type": "code",
   "execution_count": 5,
   "metadata": {},
   "outputs": [],
   "source": [
    "scenes = re.split(\"INT\\.|EXT\\.\",script.text)"
   ]
  },
  {
   "cell_type": "markdown",
   "metadata": {},
   "source": [
    "### Split the scenes into smaller chunks to input into the models"
   ]
  },
  {
   "cell_type": "code",
   "execution_count": 6,
   "metadata": {},
   "outputs": [],
   "source": [
    "for scene in scenes:\n",
    "    index = int(scenes.index(scene))\n",
    "    scenes[index] = scene.replace('\\n','').replace('\\r','').replace('\\t','')\n",
    "    if len(scene.split()) > 512 and len(scene.split()) < 1024:\n",
    "        length = len(scene)\n",
    "        mid = length//2\n",
    "        text1 = scene[:mid]\n",
    "        text2 = scene[mid:]\n",
    "        scenes[index] = text1\n",
    "        scenes.insert(index+1, text2)\n",
    "    if len(scene.split()) > 1024:\n",
    "        length = len(scene)\n",
    "        part = length//3\n",
    "        text1 = scene[:part]\n",
    "        text2 = scene[part:part*2]\n",
    "        text3 = scene[part*2:]\n",
    "        scenes[index] = text1\n",
    "        scenes.insert(index+1, text2)\n",
    "        scenes.insert(index+2, text3)"
   ]
  },
  {
   "cell_type": "markdown",
   "metadata": {},
   "source": [
    "## Store the data in a json file"
   ]
  },
  {
   "cell_type": "code",
   "execution_count": 9,
   "metadata": {},
   "outputs": [],
   "source": [
    "dict_list = [{\"scene_no\":index+1,\"scene\":scene} for index, scene in enumerate(scenes)]"
   ]
  },
  {
   "cell_type": "code",
   "execution_count": 11,
   "metadata": {},
   "outputs": [],
   "source": [
    "json_data = json.dumps(dict_list, indent=4)"
   ]
  },
  {
   "cell_type": "code",
   "execution_count": 12,
   "metadata": {},
   "outputs": [],
   "source": [
    "with open('joker_final.json', 'w') as f:\n",
    "    f.write(json_data)"
   ]
  },
  {
   "cell_type": "code",
   "execution_count": 13,
   "metadata": {},
   "outputs": [
    {
     "data": {
      "text/html": [
       "<div>\n",
       "<style scoped>\n",
       "    .dataframe tbody tr th:only-of-type {\n",
       "        vertical-align: middle;\n",
       "    }\n",
       "\n",
       "    .dataframe tbody tr th {\n",
       "        vertical-align: top;\n",
       "    }\n",
       "\n",
       "    .dataframe thead th {\n",
       "        text-align: right;\n",
       "    }\n",
       "</style>\n",
       "<table border=\"1\" class=\"dataframe\">\n",
       "  <thead>\n",
       "    <tr style=\"text-align: right;\">\n",
       "      <th></th>\n",
       "      <th>scene_no</th>\n",
       "      <th>scene</th>\n",
       "    </tr>\n",
       "  </thead>\n",
       "  <tbody>\n",
       "    <tr>\n",
       "      <th>0</th>\n",
       "      <td>1</td>\n",
       "      <td>JOKER             ...</td>\n",
       "    </tr>\n",
       "    <tr>\n",
       "      <th>1</th>\n",
       "      <td>2</td>\n",
       "      <td>DEPT. OF HEALTH, OFFICE - MORNING            ...</td>\n",
       "    </tr>\n",
       "    <tr>\n",
       "      <th>2</th>\n",
       "      <td>3</td>\n",
       "      <td>JOKER          Right.ANGLE ON JOURNAL, page...</td>\n",
       "    </tr>\n",
       "    <tr>\n",
       "      <th>3</th>\n",
       "      <td>4</td>\n",
       "      <td>GOTHAM SQUARE, MIDTOWN - KENNY'S MUSIC SHOP -...</td>\n",
       "    </tr>\n",
       "    <tr>\n",
       "      <th>4</th>\n",
       "      <td>5</td>\n",
       "      <td>CORNER, SIDE STREET - GOTHAM SQUARE - CONTINU...</td>\n",
       "    </tr>\n",
       "  </tbody>\n",
       "</table>\n",
       "</div>"
      ],
      "text/plain": [
       "   scene_no                                              scene\n",
       "0         1                              JOKER             ...\n",
       "1         2   DEPT. OF HEALTH, OFFICE - MORNING            ...\n",
       "2         3     JOKER          Right.ANGLE ON JOURNAL, page...\n",
       "3         4   GOTHAM SQUARE, MIDTOWN - KENNY'S MUSIC SHOP -...\n",
       "4         5   CORNER, SIDE STREET - GOTHAM SQUARE - CONTINU..."
      ]
     },
     "execution_count": 13,
     "metadata": {},
     "output_type": "execute_result"
    }
   ],
   "source": [
    "df = pd.read_json('joker_final.json')\n",
    "df.head(5)"
   ]
  },
  {
   "cell_type": "markdown",
   "metadata": {},
   "source": [
    "Strip the scenes off of white space characters"
   ]
  },
  {
   "cell_type": "code",
   "execution_count": 33,
   "metadata": {},
   "outputs": [],
   "source": [
    "def strip(text):\n",
    "    stripped_text = text.replace('\\n','').replace('\\r','').replace('\\t','')\n",
    "    return stripped_text"
   ]
  },
  {
   "cell_type": "code",
   "execution_count": 34,
   "metadata": {},
   "outputs": [],
   "source": [
    "df['stripped_scene'] = df['scene'].apply(strip)"
   ]
  },
  {
   "cell_type": "markdown",
   "metadata": {},
   "source": [
    "### Use the tokenizer to truncate the scenes to 512 tokens"
   ]
  },
  {
   "cell_type": "code",
   "execution_count": 62,
   "metadata": {},
   "outputs": [
    {
     "name": "stderr",
     "output_type": "stream",
     "text": [
      "Downloading (…)okenizer_config.json: 100%|██████████| 28.0/28.0 [00:00<00:00, 56.9kB/s]\n",
      "Downloading (…)lve/main/config.json: 100%|██████████| 483/483 [00:00<00:00, 2.65MB/s]\n",
      "Downloading (…)solve/main/vocab.txt: 100%|██████████| 232k/232k [00:00<00:00, 9.69MB/s]\n",
      "Downloading (…)/main/tokenizer.json: 100%|██████████| 466k/466k [00:00<00:00, 21.7MB/s]\n"
     ]
    }
   ],
   "source": [
    "from transformers import AutoTokenizer\n",
    "\n",
    "tokenizer = AutoTokenizer.from_pretrained(\"distilbert-base-uncased\")"
   ]
  },
  {
   "cell_type": "markdown",
   "metadata": {},
   "source": [
    "## Function the classify the scenes into emotions"
   ]
  },
  {
   "cell_type": "code",
   "execution_count": 119,
   "metadata": {},
   "outputs": [],
   "source": [
    "def classify(text):\n",
    "    tokens = tokenizer(text)\n",
    "    input_ids = tokens['input_ids']\n",
    "    attention_mask = tokens['attention_mask']\n",
    "    if len(input_ids) > 505:\n",
    "        input_ids = input_ids[-505:-1]\n",
    "\n",
    "    text = tokenizer.decode(input_ids)\n",
    "    emotion = classifier(text)[0]\n",
    "    label = emotion['label']\n",
    "    return label\n",
    "\n",
    "\n",
    "        \n",
    "        \n",
    "    "
   ]
  },
  {
   "cell_type": "code",
   "execution_count": 120,
   "metadata": {},
   "outputs": [],
   "source": [
    "df['emotion'] = df['stripped_scene'].apply(classify)"
   ]
  },
  {
   "cell_type": "code",
   "execution_count": 121,
   "metadata": {},
   "outputs": [
    {
     "data": {
      "text/plain": [
       "0      sadness\n",
       "1      sadness\n",
       "2      sadness\n",
       "3        anger\n",
       "4        anger\n",
       "        ...   \n",
       "137       fear\n",
       "138      anger\n",
       "139       fear\n",
       "140        joy\n",
       "141        joy\n",
       "Name: emotion, Length: 142, dtype: object"
      ]
     },
     "execution_count": 121,
     "metadata": {},
     "output_type": "execute_result"
    }
   ],
   "source": [
    "df['emotion']"
   ]
  },
  {
   "cell_type": "markdown",
   "metadata": {},
   "source": [
    "## Map the emotions into numbers"
   ]
  },
  {
   "cell_type": "code",
   "execution_count": 154,
   "metadata": {},
   "outputs": [],
   "source": [
    "emotion_order = ['joy', 'love', 'surprise','sadness','anger', 'fear']\n",
    "order = [6,5,4,3,2,1]\n",
    "datamap = {x:y for x,y in zip(emotion_order,order)}\n",
    "df['emotion_code'] = df['emotion'].map(datamap)\n"
   ]
  },
  {
   "cell_type": "code",
   "execution_count": 155,
   "metadata": {},
   "outputs": [
    {
     "data": {
      "text/plain": [
       "{'joy': 6, 'love': 5, 'surprise': 4, 'sadness': 3, 'anger': 2, 'fear': 1}"
      ]
     },
     "execution_count": 155,
     "metadata": {},
     "output_type": "execute_result"
    }
   ],
   "source": [
    "datamap"
   ]
  },
  {
   "cell_type": "code",
   "execution_count": 156,
   "metadata": {},
   "outputs": [
    {
     "data": {
      "text/plain": [
       "([<matplotlib.axis.YTick at 0x282add6c0>,\n",
       "  <matplotlib.axis.YTick at 0x282add060>,\n",
       "  <matplotlib.axis.YTick at 0x282b25630>,\n",
       "  <matplotlib.axis.YTick at 0x282b25f30>,\n",
       "  <matplotlib.axis.YTick at 0x282b269e0>,\n",
       "  <matplotlib.axis.YTick at 0x282b27490>],\n",
       " [Text(0, 6, 'joy'),\n",
       "  Text(0, 5, 'love'),\n",
       "  Text(0, 4, 'surprise'),\n",
       "  Text(0, 3, 'sadness'),\n",
       "  Text(0, 2, 'anger'),\n",
       "  Text(0, 1, 'fear')])"
      ]
     },
     "execution_count": 156,
     "metadata": {},
     "output_type": "execute_result"
    },
    {
     "data": {
      "image/png": "[encoded data removed]",
      "text/plain": [
       "<Figure size 640x480 with 1 Axes>"
      ]
     },
     "metadata": {},
     "output_type": "display_data"
    }
   ],
   "source": [
    "sns.lineplot(data=df,x='scene_no',y='emotion_code')\n",
    "plt.yticks(order,emotion_order)"
   ]
  },
  {
   "cell_type": "markdown",
   "metadata": {},
   "source": [
    "### Use the pillow library to represent the emotions using colours"
   ]
  },
  {
   "cell_type": "code",
   "execution_count": 159,
   "metadata": {},
   "outputs": [],
   "source": [
    "from PIL import Image, ImageDraw"
   ]
  },
  {
   "cell_type": "code",
   "execution_count": 2,
   "metadata": {},
   "outputs": [],
   "source": [
    "color_mapping = {\n",
    "    'joy': (72, 143, 49),       \n",
    "    'love': (198, 210, 119),     \n",
    "    'surprise': (255, 246, 163),  \n",
    "    'sadness':(248, 189, 110),    \n",
    "    'anger': (236, 128, 83),     \n",
    "    'fear': (222, 66, 91)\t\n",
    "}"
   ]
  },
  {
   "cell_type": "code",
   "execution_count": 192,
   "metadata": {},
   "outputs": [],
   "source": [
    "# Define image dimensions and bar height\n",
    "image_width = 1200\n",
    "image_height = 500\n",
    "bar_height = 500\n",
    "\n",
    "# Create a blank image\n",
    "image = Image.new('RGB', (image_width, image_height), 'white')\n",
    "draw = ImageDraw.Draw(image)\n",
    "length = df.shape[0]\n",
    "# Draw colored bars based on emotions\n",
    "for index, row in df.iterrows():\n",
    "    scene_num = row['scene_no']\n",
    "    emotion = row['emotion']\n",
    "    color = color_mapping.get(emotion, (0, 0, 0))  # Default to black if emotion not found\n",
    "    start_x = scene_num * round(image_width / length)\n",
    "    end_x = (scene_num+1) * round(image_width / length)\n",
    "    draw.rectangle([start_x, 0, end_x, bar_height], fill=color)\n",
    "\n",
    "# Save the image\n",
    "image.save('emotion_barcode.png')"
   ]
  },
  {
   "cell_type": "code",
   "execution_count": null,
   "metadata": {},
   "outputs": [],
   "source": []
  }
 ],
 "metadata": {
  "kernelspec": {
   "display_name": "Python 3.10.12 ('base')",
   "language": "python",
   "name": "python3"
  },
  "language_info": {
   "codemirror_mode": {
    "name": "ipython",
    "version": 3
   },
   "file_extension": ".py",
   "mimetype": "text/x-python",
   "name": "python",
   "nbconvert_exporter": "python",
   "pygments_lexer": "ipython3",
   "version": "3.10.12"
  },
  "orig_nbformat": 4,
  "vscode": {
   "interpreter": {
    "hash": "b90692b742c5e732dedf6e962b701736ab0816c4096d56776820239358ac61df"
   }
  }
 },
 "nbformat": 4,
 "nbformat_minor": 2
}
